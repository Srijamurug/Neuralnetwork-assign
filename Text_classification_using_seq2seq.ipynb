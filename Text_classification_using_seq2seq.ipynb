{
  "nbformat": 4,
  "nbformat_minor": 0,
  "metadata": {
    "colab": {
      "provenance": [],
      "mount_file_id": "1wrnWEjdh8727acNKsNzJquaP4yDSlLRf",
      "authorship_tag": "ABX9TyOLEOveTyPi34D+JBSu/+T0",
      "include_colab_link": true
    },
    "kernelspec": {
      "name": "python3",
      "display_name": "Python 3"
    },
    "language_info": {
      "name": "python"
    }
  },
  "cells": [
    {
      "cell_type": "markdown",
      "metadata": {
        "id": "view-in-github",
        "colab_type": "text"
      },
      "source": [
        "<a href=\"https://colab.research.google.com/github/Srijamurug/Neuralnetwork-assign/blob/main/Text_classification_using_seq2seq.ipynb\" target=\"_parent\"><img src=\"https://colab.research.google.com/assets/colab-badge.svg\" alt=\"Open In Colab\"/></a>"
      ]
    },
    {
      "cell_type": "markdown",
      "source": [
        "#methods"
      ],
      "metadata": {
        "id": "MMSrML9MzjoG"
      }
    },
    {
      "cell_type": "markdown",
      "source": [
        "Step1: Importing the modules"
      ],
      "metadata": {
        "id": "4GrPDrlOE9Ta"
      }
    },
    {
      "cell_type": "code",
      "metadata": {
        "colab": {
          "base_uri": "https://localhost:8080/"
        },
        "id": "yDn3gopL8nSN",
        "outputId": "a8ef832d-8b04-4cd6-c9c3-7d1eb9fa09c9"
      },
      "source": [
        "import nltk\n",
        "nltk.download('stopwords')\n",
        "nltk.download('wordnet')\n",
        "import pandas as pd\n",
        "import numpy as np\n",
        "import re\n",
        "from nltk.stem import WordNetLemmatizer\n",
        "from nltk.corpus import stopwords\n",
        "import csv\n",
        "import tensorflow as tf\n",
        "import tensorflow.keras as keras\n",
        "from tensorflow.keras.preprocessing.text import Tokenizer\n",
        "from tensorflow.keras.preprocessing.sequence import pad_sequences\n",
        "from tensorflow.keras.layers import Concatenate, Dense, Input, LSTM, Embedding, Dropout, Activation, GRU, Flatten\n",
        "from tensorflow.keras.layers import Bidirectional, GlobalMaxPool1D\n",
        "from tensorflow.keras.models import Model, Sequential\n",
        "from tensorflow.keras.layers import Convolution1D\n",
        "from tensorflow.keras import initializers, regularizers, constraints, optimizers, layers"
      ],
      "execution_count": null,
      "outputs": [
        {
          "output_type": "stream",
          "name": "stderr",
          "text": [
            "[nltk_data] Downloading package stopwords to /root/nltk_data...\n",
            "[nltk_data]   Package stopwords is already up-to-date!\n",
            "[nltk_data] Downloading package wordnet to /root/nltk_data...\n",
            "[nltk_data]   Package wordnet is already up-to-date!\n"
          ]
        }
      ]
    },
    {
      "cell_type": "markdown",
      "source": [
        "Step 2: Loading the dataset"
      ],
      "metadata": {
        "id": "j-Z-ogHHFDHx"
      }
    },
    {
      "cell_type": "code",
      "metadata": {
        "id": "LALI8XJK9EbY"
      },
      "source": [
        "a = pd.read_csv(\"/content/drive/MyDrive/bbc-text.csv\")"
      ],
      "execution_count": null,
      "outputs": []
    },
    {
      "cell_type": "code",
      "metadata": {
        "colab": {
          "base_uri": "https://localhost:8080/",
          "height": 206
        },
        "id": "i4KKNsj99ILW",
        "outputId": "c895fd1b-b094-4256-d6c7-bc8e094cd9fc"
      },
      "source": [
        "a.head()"
      ],
      "execution_count": null,
      "outputs": [
        {
          "output_type": "execute_result",
          "data": {
            "text/plain": [
              "        category                                               text\n",
              "0           tech  tv future in the hands of viewers with home th...\n",
              "1       business  worldcom boss  left books alone  former worldc...\n",
              "2          sport  tigers wary of farrell  gamble  leicester say ...\n",
              "3          sport  yeading face newcastle in fa cup premiership s...\n",
              "4  entertainment  ocean s twelve raids box office ocean s twelve..."
            ],
            "text/html": [
              "\n",
              "  <div id=\"df-a1dc94db-fd86-4a9b-a413-c6deb8ddcb95\">\n",
              "    <div class=\"colab-df-container\">\n",
              "      <div>\n",
              "<style scoped>\n",
              "    .dataframe tbody tr th:only-of-type {\n",
              "        vertical-align: middle;\n",
              "    }\n",
              "\n",
              "    .dataframe tbody tr th {\n",
              "        vertical-align: top;\n",
              "    }\n",
              "\n",
              "    .dataframe thead th {\n",
              "        text-align: right;\n",
              "    }\n",
              "</style>\n",
              "<table border=\"1\" class=\"dataframe\">\n",
              "  <thead>\n",
              "    <tr style=\"text-align: right;\">\n",
              "      <th></th>\n",
              "      <th>category</th>\n",
              "      <th>text</th>\n",
              "    </tr>\n",
              "  </thead>\n",
              "  <tbody>\n",
              "    <tr>\n",
              "      <th>0</th>\n",
              "      <td>tech</td>\n",
              "      <td>tv future in the hands of viewers with home th...</td>\n",
              "    </tr>\n",
              "    <tr>\n",
              "      <th>1</th>\n",
              "      <td>business</td>\n",
              "      <td>worldcom boss  left books alone  former worldc...</td>\n",
              "    </tr>\n",
              "    <tr>\n",
              "      <th>2</th>\n",
              "      <td>sport</td>\n",
              "      <td>tigers wary of farrell  gamble  leicester say ...</td>\n",
              "    </tr>\n",
              "    <tr>\n",
              "      <th>3</th>\n",
              "      <td>sport</td>\n",
              "      <td>yeading face newcastle in fa cup premiership s...</td>\n",
              "    </tr>\n",
              "    <tr>\n",
              "      <th>4</th>\n",
              "      <td>entertainment</td>\n",
              "      <td>ocean s twelve raids box office ocean s twelve...</td>\n",
              "    </tr>\n",
              "  </tbody>\n",
              "</table>\n",
              "</div>\n",
              "      <button class=\"colab-df-convert\" onclick=\"convertToInteractive('df-a1dc94db-fd86-4a9b-a413-c6deb8ddcb95')\"\n",
              "              title=\"Convert this dataframe to an interactive table.\"\n",
              "              style=\"display:none;\">\n",
              "        \n",
              "  <svg xmlns=\"http://www.w3.org/2000/svg\" height=\"24px\"viewBox=\"0 0 24 24\"\n",
              "       width=\"24px\">\n",
              "    <path d=\"M0 0h24v24H0V0z\" fill=\"none\"/>\n",
              "    <path d=\"M18.56 5.44l.94 2.06.94-2.06 2.06-.94-2.06-.94-.94-2.06-.94 2.06-2.06.94zm-11 1L8.5 8.5l.94-2.06 2.06-.94-2.06-.94L8.5 2.5l-.94 2.06-2.06.94zm10 10l.94 2.06.94-2.06 2.06-.94-2.06-.94-.94-2.06-.94 2.06-2.06.94z\"/><path d=\"M17.41 7.96l-1.37-1.37c-.4-.4-.92-.59-1.43-.59-.52 0-1.04.2-1.43.59L10.3 9.45l-7.72 7.72c-.78.78-.78 2.05 0 2.83L4 21.41c.39.39.9.59 1.41.59.51 0 1.02-.2 1.41-.59l7.78-7.78 2.81-2.81c.8-.78.8-2.07 0-2.86zM5.41 20L4 18.59l7.72-7.72 1.47 1.35L5.41 20z\"/>\n",
              "  </svg>\n",
              "      </button>\n",
              "      \n",
              "  <style>\n",
              "    .colab-df-container {\n",
              "      display:flex;\n",
              "      flex-wrap:wrap;\n",
              "      gap: 12px;\n",
              "    }\n",
              "\n",
              "    .colab-df-convert {\n",
              "      background-color: #E8F0FE;\n",
              "      border: none;\n",
              "      border-radius: 50%;\n",
              "      cursor: pointer;\n",
              "      display: none;\n",
              "      fill: #1967D2;\n",
              "      height: 32px;\n",
              "      padding: 0 0 0 0;\n",
              "      width: 32px;\n",
              "    }\n",
              "\n",
              "    .colab-df-convert:hover {\n",
              "      background-color: #E2EBFA;\n",
              "      box-shadow: 0px 1px 2px rgba(60, 64, 67, 0.3), 0px 1px 3px 1px rgba(60, 64, 67, 0.15);\n",
              "      fill: #174EA6;\n",
              "    }\n",
              "\n",
              "    [theme=dark] .colab-df-convert {\n",
              "      background-color: #3B4455;\n",
              "      fill: #D2E3FC;\n",
              "    }\n",
              "\n",
              "    [theme=dark] .colab-df-convert:hover {\n",
              "      background-color: #434B5C;\n",
              "      box-shadow: 0px 1px 3px 1px rgba(0, 0, 0, 0.15);\n",
              "      filter: drop-shadow(0px 1px 2px rgba(0, 0, 0, 0.3));\n",
              "      fill: #FFFFFF;\n",
              "    }\n",
              "  </style>\n",
              "\n",
              "      <script>\n",
              "        const buttonEl =\n",
              "          document.querySelector('#df-a1dc94db-fd86-4a9b-a413-c6deb8ddcb95 button.colab-df-convert');\n",
              "        buttonEl.style.display =\n",
              "          google.colab.kernel.accessAllowed ? 'block' : 'none';\n",
              "\n",
              "        async function convertToInteractive(key) {\n",
              "          const element = document.querySelector('#df-a1dc94db-fd86-4a9b-a413-c6deb8ddcb95');\n",
              "          const dataTable =\n",
              "            await google.colab.kernel.invokeFunction('convertToInteractive',\n",
              "                                                     [key], {});\n",
              "          if (!dataTable) return;\n",
              "\n",
              "          const docLinkHtml = 'Like what you see? Visit the ' +\n",
              "            '<a target=\"_blank\" href=https://colab.research.google.com/notebooks/data_table.ipynb>data table notebook</a>'\n",
              "            + ' to learn more about interactive tables.';\n",
              "          element.innerHTML = '';\n",
              "          dataTable['output_type'] = 'display_data';\n",
              "          await google.colab.output.renderOutput(dataTable, element);\n",
              "          const docLink = document.createElement('div');\n",
              "          docLink.innerHTML = docLinkHtml;\n",
              "          element.appendChild(docLink);\n",
              "        }\n",
              "      </script>\n",
              "    </div>\n",
              "  </div>\n",
              "  "
            ]
          },
          "metadata": {},
          "execution_count": 39
        }
      ]
    },
    {
      "cell_type": "code",
      "source": [
        "a.shape"
      ],
      "metadata": {
        "colab": {
          "base_uri": "https://localhost:8080/"
        },
        "id": "wgqb18_m3K6p",
        "outputId": "36792319-78e1-4835-dd69-281fcb56da6f"
      },
      "execution_count": null,
      "outputs": [
        {
          "output_type": "execute_result",
          "data": {
            "text/plain": [
              "(2225, 2)"
            ]
          },
          "metadata": {},
          "execution_count": 40
        }
      ]
    },
    {
      "cell_type": "code",
      "metadata": {
        "colab": {
          "base_uri": "https://localhost:8080/"
        },
        "id": "-TygPv0M9hKx",
        "outputId": "6c205f36-0e0e-45d9-9a1e-1779daf403cb"
      },
      "source": [
        "a.category.value_counts()"
      ],
      "execution_count": null,
      "outputs": [
        {
          "output_type": "execute_result",
          "data": {
            "text/plain": [
              "sport            511\n",
              "business         510\n",
              "politics         417\n",
              "tech             401\n",
              "entertainment    386\n",
              "Name: category, dtype: int64"
            ]
          },
          "metadata": {},
          "execution_count": 41
        }
      ]
    },
    {
      "cell_type": "code",
      "metadata": {
        "id": "pcLA-tTH9h--"
      },
      "source": [
        "df = a.copy()"
      ],
      "execution_count": null,
      "outputs": []
    },
    {
      "cell_type": "code",
      "source": [
        "df.category = df.category.map({ \n",
        "    \"sport\" : 1,\n",
        "    \"business\" : 2,\n",
        "    \"politics\" : 3, \n",
        "    \"tech\" : 4, \n",
        "     \"entertainment\" : 5           \n",
        "})"
      ],
      "metadata": {
        "id": "Uk_xNbLe7EZT"
      },
      "execution_count": null,
      "outputs": []
    },
    {
      "cell_type": "code",
      "metadata": {
        "colab": {
          "base_uri": "https://localhost:8080/",
          "height": 206
        },
        "id": "fA1UWdoP9ruY",
        "outputId": "69b73c11-8136-4e77-c4dc-71ce54d6d02f"
      },
      "source": [
        "\n",
        "df.head()"
      ],
      "execution_count": null,
      "outputs": [
        {
          "output_type": "execute_result",
          "data": {
            "text/plain": [
              "   category                                               text\n",
              "0         4  tv future in the hands of viewers with home th...\n",
              "1         2  worldcom boss  left books alone  former worldc...\n",
              "2         1  tigers wary of farrell  gamble  leicester say ...\n",
              "3         1  yeading face newcastle in fa cup premiership s...\n",
              "4         5  ocean s twelve raids box office ocean s twelve..."
            ],
            "text/html": [
              "\n",
              "  <div id=\"df-780beaad-bcdd-49c3-85a3-24f90c7cc046\">\n",
              "    <div class=\"colab-df-container\">\n",
              "      <div>\n",
              "<style scoped>\n",
              "    .dataframe tbody tr th:only-of-type {\n",
              "        vertical-align: middle;\n",
              "    }\n",
              "\n",
              "    .dataframe tbody tr th {\n",
              "        vertical-align: top;\n",
              "    }\n",
              "\n",
              "    .dataframe thead th {\n",
              "        text-align: right;\n",
              "    }\n",
              "</style>\n",
              "<table border=\"1\" class=\"dataframe\">\n",
              "  <thead>\n",
              "    <tr style=\"text-align: right;\">\n",
              "      <th></th>\n",
              "      <th>category</th>\n",
              "      <th>text</th>\n",
              "    </tr>\n",
              "  </thead>\n",
              "  <tbody>\n",
              "    <tr>\n",
              "      <th>0</th>\n",
              "      <td>4</td>\n",
              "      <td>tv future in the hands of viewers with home th...</td>\n",
              "    </tr>\n",
              "    <tr>\n",
              "      <th>1</th>\n",
              "      <td>2</td>\n",
              "      <td>worldcom boss  left books alone  former worldc...</td>\n",
              "    </tr>\n",
              "    <tr>\n",
              "      <th>2</th>\n",
              "      <td>1</td>\n",
              "      <td>tigers wary of farrell  gamble  leicester say ...</td>\n",
              "    </tr>\n",
              "    <tr>\n",
              "      <th>3</th>\n",
              "      <td>1</td>\n",
              "      <td>yeading face newcastle in fa cup premiership s...</td>\n",
              "    </tr>\n",
              "    <tr>\n",
              "      <th>4</th>\n",
              "      <td>5</td>\n",
              "      <td>ocean s twelve raids box office ocean s twelve...</td>\n",
              "    </tr>\n",
              "  </tbody>\n",
              "</table>\n",
              "</div>\n",
              "      <button class=\"colab-df-convert\" onclick=\"convertToInteractive('df-780beaad-bcdd-49c3-85a3-24f90c7cc046')\"\n",
              "              title=\"Convert this dataframe to an interactive table.\"\n",
              "              style=\"display:none;\">\n",
              "        \n",
              "  <svg xmlns=\"http://www.w3.org/2000/svg\" height=\"24px\"viewBox=\"0 0 24 24\"\n",
              "       width=\"24px\">\n",
              "    <path d=\"M0 0h24v24H0V0z\" fill=\"none\"/>\n",
              "    <path d=\"M18.56 5.44l.94 2.06.94-2.06 2.06-.94-2.06-.94-.94-2.06-.94 2.06-2.06.94zm-11 1L8.5 8.5l.94-2.06 2.06-.94-2.06-.94L8.5 2.5l-.94 2.06-2.06.94zm10 10l.94 2.06.94-2.06 2.06-.94-2.06-.94-.94-2.06-.94 2.06-2.06.94z\"/><path d=\"M17.41 7.96l-1.37-1.37c-.4-.4-.92-.59-1.43-.59-.52 0-1.04.2-1.43.59L10.3 9.45l-7.72 7.72c-.78.78-.78 2.05 0 2.83L4 21.41c.39.39.9.59 1.41.59.51 0 1.02-.2 1.41-.59l7.78-7.78 2.81-2.81c.8-.78.8-2.07 0-2.86zM5.41 20L4 18.59l7.72-7.72 1.47 1.35L5.41 20z\"/>\n",
              "  </svg>\n",
              "      </button>\n",
              "      \n",
              "  <style>\n",
              "    .colab-df-container {\n",
              "      display:flex;\n",
              "      flex-wrap:wrap;\n",
              "      gap: 12px;\n",
              "    }\n",
              "\n",
              "    .colab-df-convert {\n",
              "      background-color: #E8F0FE;\n",
              "      border: none;\n",
              "      border-radius: 50%;\n",
              "      cursor: pointer;\n",
              "      display: none;\n",
              "      fill: #1967D2;\n",
              "      height: 32px;\n",
              "      padding: 0 0 0 0;\n",
              "      width: 32px;\n",
              "    }\n",
              "\n",
              "    .colab-df-convert:hover {\n",
              "      background-color: #E2EBFA;\n",
              "      box-shadow: 0px 1px 2px rgba(60, 64, 67, 0.3), 0px 1px 3px 1px rgba(60, 64, 67, 0.15);\n",
              "      fill: #174EA6;\n",
              "    }\n",
              "\n",
              "    [theme=dark] .colab-df-convert {\n",
              "      background-color: #3B4455;\n",
              "      fill: #D2E3FC;\n",
              "    }\n",
              "\n",
              "    [theme=dark] .colab-df-convert:hover {\n",
              "      background-color: #434B5C;\n",
              "      box-shadow: 0px 1px 3px 1px rgba(0, 0, 0, 0.15);\n",
              "      filter: drop-shadow(0px 1px 2px rgba(0, 0, 0, 0.3));\n",
              "      fill: #FFFFFF;\n",
              "    }\n",
              "  </style>\n",
              "\n",
              "      <script>\n",
              "        const buttonEl =\n",
              "          document.querySelector('#df-780beaad-bcdd-49c3-85a3-24f90c7cc046 button.colab-df-convert');\n",
              "        buttonEl.style.display =\n",
              "          google.colab.kernel.accessAllowed ? 'block' : 'none';\n",
              "\n",
              "        async function convertToInteractive(key) {\n",
              "          const element = document.querySelector('#df-780beaad-bcdd-49c3-85a3-24f90c7cc046');\n",
              "          const dataTable =\n",
              "            await google.colab.kernel.invokeFunction('convertToInteractive',\n",
              "                                                     [key], {});\n",
              "          if (!dataTable) return;\n",
              "\n",
              "          const docLinkHtml = 'Like what you see? Visit the ' +\n",
              "            '<a target=\"_blank\" href=https://colab.research.google.com/notebooks/data_table.ipynb>data table notebook</a>'\n",
              "            + ' to learn more about interactive tables.';\n",
              "          element.innerHTML = '';\n",
              "          dataTable['output_type'] = 'display_data';\n",
              "          await google.colab.output.renderOutput(dataTable, element);\n",
              "          const docLink = document.createElement('div');\n",
              "          docLink.innerHTML = docLinkHtml;\n",
              "          element.appendChild(docLink);\n",
              "        }\n",
              "      </script>\n",
              "    </div>\n",
              "  </div>\n",
              "  "
            ]
          },
          "metadata": {},
          "execution_count": 44
        }
      ]
    },
    {
      "cell_type": "code",
      "metadata": {
        "id": "G0-MxARj9rxQ"
      },
      "source": [
        "stop_words = set(stopwords.words(\"english\"))\n",
        "lemmatizer = WordNetLemmatizer()"
      ],
      "execution_count": null,
      "outputs": []
    },
    {
      "cell_type": "markdown",
      "source": [
        "Step 3: Cleaning the data"
      ],
      "metadata": {
        "id": "KfQfhgJSFNCw"
      }
    },
    {
      "cell_type": "code",
      "metadata": {
        "id": "aFZjgeKH9rz3"
      },
      "source": [
        "def clean_text(text):\n",
        "    '''\n",
        "      This function will return the processed review texts\n",
        "    '''\n",
        "    text = re.sub(r'[^\\w\\s]','',text, re.UNICODE) \n",
        "    text = text.lower()\n",
        "    text = text.replace(' ', '')\n",
        "    text = [lemmatizer.lemmatize(token) for token in text.split(\" \")]\n",
        "    text = [lemmatizer.lemmatize(token, \"v\") for token in text] # find the lemma word\n",
        "    text = [word for word in text if  not word in stop_words] # remove the english stop words\n",
        "    text = \" \".join(text)\n",
        "    return text"
      ],
      "execution_count": null,
      "outputs": []
    },
    {
      "cell_type": "markdown",
      "source": [
        "Step 4: Data Preprocessing "
      ],
      "metadata": {
        "id": "TMJPcsPoFSP3"
      }
    },
    {
      "cell_type": "code",
      "metadata": {
        "id": "34H-uKyV-SPZ"
      },
      "source": [
        "df['preprossed_data'] = df.text.apply(lambda x : clean_text(x))"
      ],
      "execution_count": null,
      "outputs": []
    },
    {
      "cell_type": "code",
      "metadata": {
        "colab": {
          "base_uri": "https://localhost:8080/"
        },
        "id": "gsMfg_9F-WfD",
        "outputId": "dd11bf14-0b72-46bd-e4f4-ec952a87cd5c"
      },
      "source": [
        "df['preprossed_data'].apply(lambda x : len(x.split(\" \"))).mean()"
      ],
      "execution_count": null,
      "outputs": [
        {
          "output_type": "execute_result",
          "data": {
            "text/plain": [
              "1.0"
            ]
          },
          "metadata": {},
          "execution_count": 48
        }
      ]
    },
    {
      "cell_type": "code",
      "source": [
        "df"
      ],
      "metadata": {
        "colab": {
          "base_uri": "https://localhost:8080/",
          "height": 424
        },
        "id": "0XPB3rTlAWBz",
        "outputId": "f1685119-0bf5-4ed0-fef1-c59bc831f03a"
      },
      "execution_count": null,
      "outputs": [
        {
          "output_type": "execute_result",
          "data": {
            "text/plain": [
              "      category                                               text  \\\n",
              "0            4  tv future in the hands of viewers with home th...   \n",
              "1            2  worldcom boss  left books alone  former worldc...   \n",
              "2            1  tigers wary of farrell  gamble  leicester say ...   \n",
              "3            1  yeading face newcastle in fa cup premiership s...   \n",
              "4            5  ocean s twelve raids box office ocean s twelve...   \n",
              "...        ...                                                ...   \n",
              "2220         2  cars pull down us retail figures us retail sal...   \n",
              "2221         3  kilroy unveils immigration policy ex-chatshow ...   \n",
              "2222         5  rem announce new glasgow concert us band rem h...   \n",
              "2223         3  how political squabbles snowball it s become c...   \n",
              "2224         1  souness delight at euro progress boss graeme s...   \n",
              "\n",
              "                                        preprossed_data  \n",
              "0     tvfutureinthehandsofviewerswithhometheatresyst...  \n",
              "1     worldcombossleftbooksaloneformerworldcombossbe...  \n",
              "2     tigerswaryoffarrellgambleleicestersaytheywilln...  \n",
              "3     yeadingfacenewcastleinfacuppremiershipsidenewc...  \n",
              "4     oceanstwelveraidsboxofficeoceanstwelvethecrime...  \n",
              "...                                                 ...  \n",
              "2220  carspulldownusretailfiguresusretailsalesfell03...  \n",
              "2221  kilroyunveilsimmigrationpolicyexchatshowhostro...  \n",
              "2222  remannouncenewglasgowconcertusbandremhaveannou...  \n",
              "2223  howpoliticalsquabblessnowballitsbecomecommonpl...  \n",
              "2224  sounessdelightateuroprogressbossgraemesounessf...  \n",
              "\n",
              "[2225 rows x 3 columns]"
            ],
            "text/html": [
              "\n",
              "  <div id=\"df-b518072c-ac9a-4e9b-807f-4965dfdb6637\">\n",
              "    <div class=\"colab-df-container\">\n",
              "      <div>\n",
              "<style scoped>\n",
              "    .dataframe tbody tr th:only-of-type {\n",
              "        vertical-align: middle;\n",
              "    }\n",
              "\n",
              "    .dataframe tbody tr th {\n",
              "        vertical-align: top;\n",
              "    }\n",
              "\n",
              "    .dataframe thead th {\n",
              "        text-align: right;\n",
              "    }\n",
              "</style>\n",
              "<table border=\"1\" class=\"dataframe\">\n",
              "  <thead>\n",
              "    <tr style=\"text-align: right;\">\n",
              "      <th></th>\n",
              "      <th>category</th>\n",
              "      <th>text</th>\n",
              "      <th>preprossed_data</th>\n",
              "    </tr>\n",
              "  </thead>\n",
              "  <tbody>\n",
              "    <tr>\n",
              "      <th>0</th>\n",
              "      <td>4</td>\n",
              "      <td>tv future in the hands of viewers with home th...</td>\n",
              "      <td>tvfutureinthehandsofviewerswithhometheatresyst...</td>\n",
              "    </tr>\n",
              "    <tr>\n",
              "      <th>1</th>\n",
              "      <td>2</td>\n",
              "      <td>worldcom boss  left books alone  former worldc...</td>\n",
              "      <td>worldcombossleftbooksaloneformerworldcombossbe...</td>\n",
              "    </tr>\n",
              "    <tr>\n",
              "      <th>2</th>\n",
              "      <td>1</td>\n",
              "      <td>tigers wary of farrell  gamble  leicester say ...</td>\n",
              "      <td>tigerswaryoffarrellgambleleicestersaytheywilln...</td>\n",
              "    </tr>\n",
              "    <tr>\n",
              "      <th>3</th>\n",
              "      <td>1</td>\n",
              "      <td>yeading face newcastle in fa cup premiership s...</td>\n",
              "      <td>yeadingfacenewcastleinfacuppremiershipsidenewc...</td>\n",
              "    </tr>\n",
              "    <tr>\n",
              "      <th>4</th>\n",
              "      <td>5</td>\n",
              "      <td>ocean s twelve raids box office ocean s twelve...</td>\n",
              "      <td>oceanstwelveraidsboxofficeoceanstwelvethecrime...</td>\n",
              "    </tr>\n",
              "    <tr>\n",
              "      <th>...</th>\n",
              "      <td>...</td>\n",
              "      <td>...</td>\n",
              "      <td>...</td>\n",
              "    </tr>\n",
              "    <tr>\n",
              "      <th>2220</th>\n",
              "      <td>2</td>\n",
              "      <td>cars pull down us retail figures us retail sal...</td>\n",
              "      <td>carspulldownusretailfiguresusretailsalesfell03...</td>\n",
              "    </tr>\n",
              "    <tr>\n",
              "      <th>2221</th>\n",
              "      <td>3</td>\n",
              "      <td>kilroy unveils immigration policy ex-chatshow ...</td>\n",
              "      <td>kilroyunveilsimmigrationpolicyexchatshowhostro...</td>\n",
              "    </tr>\n",
              "    <tr>\n",
              "      <th>2222</th>\n",
              "      <td>5</td>\n",
              "      <td>rem announce new glasgow concert us band rem h...</td>\n",
              "      <td>remannouncenewglasgowconcertusbandremhaveannou...</td>\n",
              "    </tr>\n",
              "    <tr>\n",
              "      <th>2223</th>\n",
              "      <td>3</td>\n",
              "      <td>how political squabbles snowball it s become c...</td>\n",
              "      <td>howpoliticalsquabblessnowballitsbecomecommonpl...</td>\n",
              "    </tr>\n",
              "    <tr>\n",
              "      <th>2224</th>\n",
              "      <td>1</td>\n",
              "      <td>souness delight at euro progress boss graeme s...</td>\n",
              "      <td>sounessdelightateuroprogressbossgraemesounessf...</td>\n",
              "    </tr>\n",
              "  </tbody>\n",
              "</table>\n",
              "<p>2225 rows × 3 columns</p>\n",
              "</div>\n",
              "      <button class=\"colab-df-convert\" onclick=\"convertToInteractive('df-b518072c-ac9a-4e9b-807f-4965dfdb6637')\"\n",
              "              title=\"Convert this dataframe to an interactive table.\"\n",
              "              style=\"display:none;\">\n",
              "        \n",
              "  <svg xmlns=\"http://www.w3.org/2000/svg\" height=\"24px\"viewBox=\"0 0 24 24\"\n",
              "       width=\"24px\">\n",
              "    <path d=\"M0 0h24v24H0V0z\" fill=\"none\"/>\n",
              "    <path d=\"M18.56 5.44l.94 2.06.94-2.06 2.06-.94-2.06-.94-.94-2.06-.94 2.06-2.06.94zm-11 1L8.5 8.5l.94-2.06 2.06-.94-2.06-.94L8.5 2.5l-.94 2.06-2.06.94zm10 10l.94 2.06.94-2.06 2.06-.94-2.06-.94-.94-2.06-.94 2.06-2.06.94z\"/><path d=\"M17.41 7.96l-1.37-1.37c-.4-.4-.92-.59-1.43-.59-.52 0-1.04.2-1.43.59L10.3 9.45l-7.72 7.72c-.78.78-.78 2.05 0 2.83L4 21.41c.39.39.9.59 1.41.59.51 0 1.02-.2 1.41-.59l7.78-7.78 2.81-2.81c.8-.78.8-2.07 0-2.86zM5.41 20L4 18.59l7.72-7.72 1.47 1.35L5.41 20z\"/>\n",
              "  </svg>\n",
              "      </button>\n",
              "      \n",
              "  <style>\n",
              "    .colab-df-container {\n",
              "      display:flex;\n",
              "      flex-wrap:wrap;\n",
              "      gap: 12px;\n",
              "    }\n",
              "\n",
              "    .colab-df-convert {\n",
              "      background-color: #E8F0FE;\n",
              "      border: none;\n",
              "      border-radius: 50%;\n",
              "      cursor: pointer;\n",
              "      display: none;\n",
              "      fill: #1967D2;\n",
              "      height: 32px;\n",
              "      padding: 0 0 0 0;\n",
              "      width: 32px;\n",
              "    }\n",
              "\n",
              "    .colab-df-convert:hover {\n",
              "      background-color: #E2EBFA;\n",
              "      box-shadow: 0px 1px 2px rgba(60, 64, 67, 0.3), 0px 1px 3px 1px rgba(60, 64, 67, 0.15);\n",
              "      fill: #174EA6;\n",
              "    }\n",
              "\n",
              "    [theme=dark] .colab-df-convert {\n",
              "      background-color: #3B4455;\n",
              "      fill: #D2E3FC;\n",
              "    }\n",
              "\n",
              "    [theme=dark] .colab-df-convert:hover {\n",
              "      background-color: #434B5C;\n",
              "      box-shadow: 0px 1px 3px 1px rgba(0, 0, 0, 0.15);\n",
              "      filter: drop-shadow(0px 1px 2px rgba(0, 0, 0, 0.3));\n",
              "      fill: #FFFFFF;\n",
              "    }\n",
              "  </style>\n",
              "\n",
              "      <script>\n",
              "        const buttonEl =\n",
              "          document.querySelector('#df-b518072c-ac9a-4e9b-807f-4965dfdb6637 button.colab-df-convert');\n",
              "        buttonEl.style.display =\n",
              "          google.colab.kernel.accessAllowed ? 'block' : 'none';\n",
              "\n",
              "        async function convertToInteractive(key) {\n",
              "          const element = document.querySelector('#df-b518072c-ac9a-4e9b-807f-4965dfdb6637');\n",
              "          const dataTable =\n",
              "            await google.colab.kernel.invokeFunction('convertToInteractive',\n",
              "                                                     [key], {});\n",
              "          if (!dataTable) return;\n",
              "\n",
              "          const docLinkHtml = 'Like what you see? Visit the ' +\n",
              "            '<a target=\"_blank\" href=https://colab.research.google.com/notebooks/data_table.ipynb>data table notebook</a>'\n",
              "            + ' to learn more about interactive tables.';\n",
              "          element.innerHTML = '';\n",
              "          dataTable['output_type'] = 'display_data';\n",
              "          await google.colab.output.renderOutput(dataTable, element);\n",
              "          const docLink = document.createElement('div');\n",
              "          docLink.innerHTML = docLinkHtml;\n",
              "          element.appendChild(docLink);\n",
              "        }\n",
              "      </script>\n",
              "    </div>\n",
              "  </div>\n",
              "  "
            ]
          },
          "metadata": {},
          "execution_count": 49
        }
      ]
    },
    {
      "cell_type": "code",
      "metadata": {
        "id": "PsdFKgV3-Wim"
      },
      "source": [
        "MAX_FEATURES = 6000  # vocab size\n",
        "EMBED_SIZE = 260\n",
        "tokenizer = Tokenizer(num_words=MAX_FEATURES, oov_token='<OOV>')\n",
        "tokenizer.fit_on_texts(df['preprossed_data'])\n",
        "list_tokenized_train = tokenizer.texts_to_sequences(df['preprossed_data']) # convert the text into sequence of token vectors\n",
        "\n",
        "RNN_CELL_SIZE = 32\n",
        "  \n",
        "MAX_LEN = 260  # Since our mean length is 127.98498\n",
        "x = pad_sequences(list_tokenized_train, maxlen=MAX_LEN)\n",
        "y = df['category']\n",
        "\n"
      ],
      "execution_count": null,
      "outputs": []
    },
    {
      "cell_type": "markdown",
      "source": [
        "Label Encoder"
      ],
      "metadata": {
        "id": "ZX_dnC9_Ff1Y"
      }
    },
    {
      "cell_type": "markdown",
      "source": [
        "Step 5: Training the model"
      ],
      "metadata": {
        "id": "pVT9gmIAFij5"
      }
    },
    {
      "cell_type": "code",
      "source": [
        "from sklearn.model_selection import train_test_split\n",
        "x_train, x_test, y_train, y_test = train_test_split(x, df.category, test_size = 1/3 ,random_state = 42)"
      ],
      "metadata": {
        "id": "FunZb81IBKd7"
      },
      "execution_count": null,
      "outputs": []
    },
    {
      "cell_type": "code",
      "metadata": {
        "colab": {
          "base_uri": "https://localhost:8080/"
        },
        "id": "9a5UKCjGBAev",
        "outputId": "c198785a-12e1-4f8c-f7bb-7a541084b343"
      },
      "source": [
        "x_test.shape"
      ],
      "execution_count": null,
      "outputs": [
        {
          "output_type": "execute_result",
          "data": {
            "text/plain": [
              "(742, 260)"
            ]
          },
          "metadata": {},
          "execution_count": 52
        }
      ]
    },
    {
      "cell_type": "code",
      "metadata": {
        "id": "XGg0cPF6-Wli"
      },
      "source": [
        "class Attention(tf.keras.Model):\n",
        "    def __init__(self, units):\n",
        "        super(Attention, self).__init__()\n",
        "        self.W1 = tf.keras.layers.Dense(units) #@eq.4 w1\n",
        "        self.W2 = tf.keras.layers.Dense(units) #@eq.4 w2\n",
        "        self.V = tf.keras.layers.Dense(1)\n",
        "\n",
        "    def call(self, features, hidden):\n",
        "\n",
        "        # we are doing this to perform addition to calculate the score\n",
        "        # expand_dims will not add or reduce elements in a tensor, it just changes the shape by adding 1 to dimensions. \n",
        "        # For example, a vector with 32 elements could be treated as a 32x1 matrix\n",
        "\n",
        "        hidden_with_time_axis = tf.expand_dims(hidden, 1)\n",
        "          \n",
        "        # we get 1 at the last axis because we are applying score to self.V\n",
        "        # the shape of the tensor before applying self.V is (batch_size, max_length, units)\n",
        "\n",
        "        score = tf.nn.tanh( self.W1(features) + self.W2(hidden_with_time_axis)) #@eq.4b\n",
        "        attention_weights = tf.nn.softmax(self.V(score), axis=1) # to make the feedforward weight to 1\n",
        "          \n",
        "        context_vector = attention_weights * features # multiply the wieight with features\n",
        "        context_vector = tf.reduce_sum(context_vector, axis=1)  # calculate all the weight and send it to output\n",
        "        return context_vector, attention_weights"
      ],
      "execution_count": null,
      "outputs": []
    },
    {
      "cell_type": "code",
      "metadata": {
        "id": "_JESTtry-Woa"
      },
      "source": [
        "sequence_input = Input(shape=(MAX_LEN,), dtype=\"int32\")\n",
        "embedded_sequences = Embedding(MAX_FEATURES, EMBED_SIZE)(sequence_input)"
      ],
      "execution_count": null,
      "outputs": []
    },
    {
      "cell_type": "code",
      "metadata": {
        "id": "zjvcqAyg-vaS"
      },
      "source": [
        "\n",
        "# Input as a LSTM\n",
        "# rune the bidirectional LSTM with batch size as 32\n",
        "# LSTM1, i'm only returning the sequence of vectors not the state\n",
        "lstm = Bidirectional(LSTM(RNN_CELL_SIZE, return_sequences = True), name=\"bi_lstm_0\")(embedded_sequences)\n",
        "\n",
        "# Getting our LSTM outputs\n",
        "(lstm, forward_h, forward_c, backward_h, backward_c) = Bidirectional(LSTM(RNN_CELL_SIZE, return_sequences=True, return_state=True), name=\"bi_lstm_1\")(lstm)"
      ],
      "execution_count": null,
      "outputs": []
    },
    {
      "cell_type": "code",
      "metadata": {
        "id": "9YB87SQg-yOX"
      },
      "source": [
        "state_h = Concatenate()([forward_h, backward_h]) # combining both direction outputs\n",
        "state_c = Concatenate()([forward_c, backward_c])  # combining both direction hidden cell states"
      ],
      "execution_count": null,
      "outputs": []
    },
    {
      "cell_type": "code",
      "metadata": {
        "id": "nCfKZQbm-zyn"
      },
      "source": [
        "# context_vector  -> tokenized context vector from the attension layer\n",
        "# attention_weights -> all the attension weights\n",
        "context_vector, attention_weights = Attention(10)(lstm, state_h) \n",
        "dense1 = Dense(units=64, activation=\"relu\")(context_vector)\n",
        "dropout = Dropout(0.05)(dense1) # adding dropout layer to avoid overfittingmodel = keras.Model(inputs=sequence_input, outputs=output)\n",
        "output = Dense(20, activation='softmax')(dropout) # we are using sigmoid activation function as our output is binary classification"
      ],
      "execution_count": null,
      "outputs": []
    },
    {
      "cell_type": "code",
      "metadata": {
        "id": "4eXqKTXT-z2x"
      },
      "source": [
        "model = keras.Model(inputs=sequence_input, outputs=output)"
      ],
      "execution_count": null,
      "outputs": []
    },
    {
      "cell_type": "code",
      "metadata": {
        "colab": {
          "base_uri": "https://localhost:8080/",
          "height": 916
        },
        "id": "r8LMA3ke_KwD",
        "outputId": "6110089d-abed-468c-d2dd-2cf0f97c259f"
      },
      "source": [
        "keras.utils.plot_model(model, show_shapes=True, dpi=90)"
      ],
      "execution_count": null,
      "outputs": [
        {
          "output_type": "execute_result",
          "data": {
            "image/png": "[encoded data removed]",
            "text/plain": [
              "<IPython.core.display.Image object>"
            ]
          },
          "metadata": {},
          "execution_count": 59
        }
      ]
    },
    {
      "cell_type": "code",
      "metadata": {
        "colab": {
          "base_uri": "https://localhost:8080/"
        },
        "id": "GAk34b4c_aNh",
        "outputId": "4896cff8-6ed6-49de-e3c7-da5de7a1089a"
      },
      "source": [
        "x_train.shape , y_train.shape"
      ],
      "execution_count": null,
      "outputs": [
        {
          "output_type": "execute_result",
          "data": {
            "text/plain": [
              "((1483, 260), (1483,))"
            ]
          },
          "metadata": {},
          "execution_count": 60
        }
      ]
    },
    {
      "cell_type": "code",
      "metadata": {
        "colab": {
          "base_uri": "https://localhost:8080/"
        },
        "id": "tEKcVR7kAPOx",
        "outputId": "693790cc-f2ff-4275-e258-329a10cd0d01"
      },
      "source": [
        "y_train.value_counts()"
      ],
      "execution_count": null,
      "outputs": [
        {
          "output_type": "execute_result",
          "data": {
            "text/plain": [
              "1    351\n",
              "2    328\n",
              "3    290\n",
              "4    258\n",
              "5    256\n",
              "Name: category, dtype: int64"
            ]
          },
          "metadata": {},
          "execution_count": 61
        }
      ]
    },
    {
      "cell_type": "code",
      "source": [
        "model.compile(loss='sparse_categorical_crossentropy',optimizer='adam', metrics='accuracy')\n"
      ],
      "metadata": {
        "id": "ahR1eZ8K1IvV"
      },
      "execution_count": null,
      "outputs": []
    },
    {
      "cell_type": "code",
      "source": [
        "from tensorflow.keras.callbacks import EarlyStopping"
      ],
      "metadata": {
        "id": "NPR9alNp6uO1"
      },
      "execution_count": null,
      "outputs": []
    },
    {
      "cell_type": "code",
      "source": [
        "#Early Stopping is used to avoid overfitting when training a learner with an iterative method, such as gradient descent.\n",
        "# Here Early stoppage is used when val_loss does not change for 4 iterations \n",
        "es= EarlyStopping(monitor= \"val_loss\", patience=4)"
      ],
      "metadata": {
        "id": "QvQlpkLg6o_8"
      },
      "execution_count": null,
      "outputs": []
    },
    {
      "cell_type": "code",
      "source": [
        "BATCH_SIZE = 100\n",
        "EPOCHS = 100\n",
        "history = model.fit(x_train,y_train, batch_size=BATCH_SIZE,epochs=EPOCHS,validation_split=0.2)"
      ],
      "metadata": {
        "colab": {
          "base_uri": "https://localhost:8080/"
        },
        "id": "eim1iZqe2AO0",
        "outputId": "4e335131-4c2a-440d-e74e-a3ab0835655f"
      },
      "execution_count": null,
      "outputs": [
        {
          "output_type": "stream",
          "name": "stdout",
          "text": [
            "Epoch 1/100\n",
            "12/12 [==============================] - 2s 120ms/step - loss: 0.8660 - accuracy: 0.6239 - val_loss: 0.9658 - val_accuracy: 0.5758\n",
            "Epoch 2/100\n",
            "12/12 [==============================] - 1s 104ms/step - loss: 0.9146 - accuracy: 0.6062 - val_loss: 1.3730 - val_accuracy: 0.4579\n",
            "Epoch 3/100\n",
            "12/12 [==============================] - 2s 166ms/step - loss: 1.1488 - accuracy: 0.5245 - val_loss: 1.1084 - val_accuracy: 0.5118\n",
            "Epoch 4/100\n",
            "12/12 [==============================] - 2s 148ms/step - loss: 1.0437 - accuracy: 0.5211 - val_loss: 1.0846 - val_accuracy: 0.5690\n",
            "Epoch 5/100\n",
            "12/12 [==============================] - 1s 72ms/step - loss: 0.9674 - accuracy: 0.5506 - val_loss: 1.0976 - val_accuracy: 0.4781\n",
            "Epoch 6/100\n",
            "12/12 [==============================] - 1s 90ms/step - loss: 0.9605 - accuracy: 0.5497 - val_loss: 1.0471 - val_accuracy: 0.5556\n",
            "Epoch 7/100\n",
            "12/12 [==============================] - 1s 73ms/step - loss: 0.9294 - accuracy: 0.5835 - val_loss: 1.0426 - val_accuracy: 0.5320\n",
            "Epoch 8/100\n",
            "12/12 [==============================] - 1s 129ms/step - loss: 0.9139 - accuracy: 0.5868 - val_loss: 1.0349 - val_accuracy: 0.5354\n",
            "Epoch 9/100\n",
            "12/12 [==============================] - 1s 72ms/step - loss: 0.8904 - accuracy: 0.6003 - val_loss: 1.0077 - val_accuracy: 0.5724\n",
            "Epoch 10/100\n",
            "12/12 [==============================] - 1s 62ms/step - loss: 0.8660 - accuracy: 0.6172 - val_loss: 0.9933 - val_accuracy: 0.5690\n",
            "Epoch 11/100\n",
            "12/12 [==============================] - 1s 78ms/step - loss: 0.8435 - accuracy: 0.6273 - val_loss: 0.9794 - val_accuracy: 0.5657\n",
            "Epoch 12/100\n",
            "12/12 [==============================] - 3s 195ms/step - loss: 0.8316 - accuracy: 0.6239 - val_loss: 0.9838 - val_accuracy: 0.5690\n",
            "Epoch 13/100\n",
            "12/12 [==============================] - 2s 203ms/step - loss: 0.8293 - accuracy: 0.6324 - val_loss: 0.9883 - val_accuracy: 0.5690\n",
            "Epoch 14/100\n",
            "12/12 [==============================] - 2s 132ms/step - loss: 0.8192 - accuracy: 0.6239 - val_loss: 0.9673 - val_accuracy: 0.5623\n",
            "Epoch 15/100\n",
            "12/12 [==============================] - 1s 60ms/step - loss: 0.8070 - accuracy: 0.6324 - val_loss: 0.9482 - val_accuracy: 0.5724\n",
            "Epoch 16/100\n",
            "12/12 [==============================] - 1s 108ms/step - loss: 0.8170 - accuracy: 0.6206 - val_loss: 0.9504 - val_accuracy: 0.5724\n",
            "Epoch 17/100\n",
            "12/12 [==============================] - 1s 88ms/step - loss: 0.7999 - accuracy: 0.6307 - val_loss: 0.9338 - val_accuracy: 0.5859\n",
            "Epoch 18/100\n",
            "12/12 [==============================] - 1s 64ms/step - loss: 0.8049 - accuracy: 0.6197 - val_loss: 0.9504 - val_accuracy: 0.5859\n",
            "Epoch 19/100\n",
            "12/12 [==============================] - 1s 88ms/step - loss: 0.8083 - accuracy: 0.6256 - val_loss: 0.9587 - val_accuracy: 0.5589\n",
            "Epoch 20/100\n",
            "12/12 [==============================] - 1s 71ms/step - loss: 0.7949 - accuracy: 0.6298 - val_loss: 0.9498 - val_accuracy: 0.5825\n",
            "Epoch 21/100\n",
            "12/12 [==============================] - 1s 113ms/step - loss: 0.7961 - accuracy: 0.6417 - val_loss: 0.9506 - val_accuracy: 0.5589\n",
            "Epoch 22/100\n",
            "12/12 [==============================] - 1s 71ms/step - loss: 0.7954 - accuracy: 0.6197 - val_loss: 0.9358 - val_accuracy: 0.5758\n",
            "Epoch 23/100\n",
            "12/12 [==============================] - 1s 71ms/step - loss: 0.7901 - accuracy: 0.6265 - val_loss: 0.9300 - val_accuracy: 0.5825\n",
            "Epoch 24/100\n",
            "12/12 [==============================] - 1s 93ms/step - loss: 0.7927 - accuracy: 0.6265 - val_loss: 0.9253 - val_accuracy: 0.5791\n",
            "Epoch 25/100\n",
            "12/12 [==============================] - 1s 88ms/step - loss: 0.7940 - accuracy: 0.6180 - val_loss: 0.9212 - val_accuracy: 0.5892\n",
            "Epoch 26/100\n",
            "12/12 [==============================] - 2s 140ms/step - loss: 0.7851 - accuracy: 0.6290 - val_loss: 0.9283 - val_accuracy: 0.5758\n",
            "Epoch 27/100\n",
            "12/12 [==============================] - 1s 70ms/step - loss: 0.7781 - accuracy: 0.6341 - val_loss: 0.9273 - val_accuracy: 0.5859\n",
            "Epoch 28/100\n",
            "12/12 [==============================] - 1s 91ms/step - loss: 0.7835 - accuracy: 0.6256 - val_loss: 0.9332 - val_accuracy: 0.5892\n",
            "Epoch 29/100\n",
            "12/12 [==============================] - 1s 60ms/step - loss: 0.7718 - accuracy: 0.6543 - val_loss: 0.9249 - val_accuracy: 0.5791\n",
            "Epoch 30/100\n",
            "12/12 [==============================] - 1s 61ms/step - loss: 0.7818 - accuracy: 0.6341 - val_loss: 0.9302 - val_accuracy: 0.5791\n",
            "Epoch 31/100\n",
            "12/12 [==============================] - 1s 75ms/step - loss: 0.7810 - accuracy: 0.6459 - val_loss: 0.9302 - val_accuracy: 0.5791\n",
            "Epoch 32/100\n",
            "12/12 [==============================] - 1s 61ms/step - loss: 0.7696 - accuracy: 0.6442 - val_loss: 0.9237 - val_accuracy: 0.5825\n",
            "Epoch 33/100\n",
            "12/12 [==============================] - 1s 58ms/step - loss: 0.7666 - accuracy: 0.6535 - val_loss: 0.9253 - val_accuracy: 0.5960\n",
            "Epoch 34/100\n",
            "12/12 [==============================] - 1s 76ms/step - loss: 0.7652 - accuracy: 0.6526 - val_loss: 0.9291 - val_accuracy: 0.5892\n",
            "Epoch 35/100\n",
            "12/12 [==============================] - 1s 57ms/step - loss: 0.7756 - accuracy: 0.6298 - val_loss: 0.9520 - val_accuracy: 0.5825\n",
            "Epoch 36/100\n",
            "12/12 [==============================] - 1s 62ms/step - loss: 0.7777 - accuracy: 0.6644 - val_loss: 0.9712 - val_accuracy: 0.5758\n",
            "Epoch 37/100\n",
            "12/12 [==============================] - 1s 89ms/step - loss: 0.7779 - accuracy: 0.6492 - val_loss: 0.9782 - val_accuracy: 0.5758\n",
            "Epoch 38/100\n",
            "12/12 [==============================] - 1s 45ms/step - loss: 0.8119 - accuracy: 0.6282 - val_loss: 0.9946 - val_accuracy: 0.5724\n",
            "Epoch 39/100\n",
            "12/12 [==============================] - 1s 60ms/step - loss: 0.7825 - accuracy: 0.6442 - val_loss: 0.9568 - val_accuracy: 0.5724\n",
            "Epoch 40/100\n",
            "12/12 [==============================] - 1s 123ms/step - loss: 0.7684 - accuracy: 0.6425 - val_loss: 0.9688 - val_accuracy: 0.5690\n",
            "Epoch 41/100\n",
            "12/12 [==============================] - 1s 87ms/step - loss: 0.7653 - accuracy: 0.6577 - val_loss: 0.9535 - val_accuracy: 0.5690\n",
            "Epoch 42/100\n",
            "12/12 [==============================] - 1s 91ms/step - loss: 0.7641 - accuracy: 0.6535 - val_loss: 0.9539 - val_accuracy: 0.5791\n",
            "Epoch 43/100\n",
            "12/12 [==============================] - 1s 56ms/step - loss: 0.7642 - accuracy: 0.6492 - val_loss: 0.9579 - val_accuracy: 0.5791\n",
            "Epoch 44/100\n",
            "12/12 [==============================] - 1s 75ms/step - loss: 0.7618 - accuracy: 0.6526 - val_loss: 0.9302 - val_accuracy: 0.5926\n",
            "Epoch 45/100\n",
            "12/12 [==============================] - 1s 60ms/step - loss: 0.7607 - accuracy: 0.6518 - val_loss: 0.9719 - val_accuracy: 0.5690\n",
            "Epoch 46/100\n",
            "12/12 [==============================] - 1s 65ms/step - loss: 0.7596 - accuracy: 0.6476 - val_loss: 1.0029 - val_accuracy: 0.5623\n",
            "Epoch 47/100\n",
            "12/12 [==============================] - 1s 65ms/step - loss: 0.7544 - accuracy: 0.6349 - val_loss: 0.9867 - val_accuracy: 0.5657\n",
            "Epoch 48/100\n",
            "12/12 [==============================] - 1s 74ms/step - loss: 0.7672 - accuracy: 0.6408 - val_loss: 0.9586 - val_accuracy: 0.5892\n",
            "Epoch 49/100\n",
            "12/12 [==============================] - 1s 80ms/step - loss: 0.7801 - accuracy: 0.6383 - val_loss: 0.9717 - val_accuracy: 0.5657\n",
            "Epoch 50/100\n",
            "12/12 [==============================] - 1s 60ms/step - loss: 0.7611 - accuracy: 0.6484 - val_loss: 0.9963 - val_accuracy: 0.5556\n",
            "Epoch 51/100\n",
            "12/12 [==============================] - 1s 94ms/step - loss: 0.7559 - accuracy: 0.6518 - val_loss: 0.9929 - val_accuracy: 0.5522\n",
            "Epoch 52/100\n",
            "12/12 [==============================] - 1s 46ms/step - loss: 0.7586 - accuracy: 0.6408 - val_loss: 1.0177 - val_accuracy: 0.5556\n",
            "Epoch 53/100\n",
            "12/12 [==============================] - 1s 46ms/step - loss: 0.7517 - accuracy: 0.6560 - val_loss: 0.9683 - val_accuracy: 0.5657\n",
            "Epoch 54/100\n",
            "12/12 [==============================] - 1s 46ms/step - loss: 0.7467 - accuracy: 0.6560 - val_loss: 0.9882 - val_accuracy: 0.5657\n",
            "Epoch 55/100\n",
            "12/12 [==============================] - 1s 66ms/step - loss: 0.7513 - accuracy: 0.6653 - val_loss: 0.9636 - val_accuracy: 0.5791\n",
            "Epoch 56/100\n",
            "12/12 [==============================] - 1s 87ms/step - loss: 0.7429 - accuracy: 0.6585 - val_loss: 0.9687 - val_accuracy: 0.5690\n",
            "Epoch 57/100\n",
            "12/12 [==============================] - 1s 101ms/step - loss: 0.7413 - accuracy: 0.6560 - val_loss: 0.9632 - val_accuracy: 0.5791\n",
            "Epoch 58/100\n",
            "12/12 [==============================] - 1s 92ms/step - loss: 0.7514 - accuracy: 0.6577 - val_loss: 0.9920 - val_accuracy: 0.5724\n",
            "Epoch 59/100\n",
            "12/12 [==============================] - 1s 65ms/step - loss: 0.7481 - accuracy: 0.6644 - val_loss: 0.9641 - val_accuracy: 0.5724\n",
            "Epoch 60/100\n",
            "12/12 [==============================] - 1s 61ms/step - loss: 0.7469 - accuracy: 0.6678 - val_loss: 0.9915 - val_accuracy: 0.5657\n",
            "Epoch 61/100\n",
            "12/12 [==============================] - 1s 61ms/step - loss: 0.7476 - accuracy: 0.6383 - val_loss: 0.9836 - val_accuracy: 0.5657\n",
            "Epoch 62/100\n",
            "12/12 [==============================] - 1s 46ms/step - loss: 0.7487 - accuracy: 0.6459 - val_loss: 1.0149 - val_accuracy: 0.5556\n",
            "Epoch 63/100\n",
            "12/12 [==============================] - 1s 63ms/step - loss: 0.7459 - accuracy: 0.6644 - val_loss: 1.0401 - val_accuracy: 0.5589\n",
            "Epoch 64/100\n",
            "12/12 [==============================] - 1s 58ms/step - loss: 0.7445 - accuracy: 0.6551 - val_loss: 1.0185 - val_accuracy: 0.5589\n",
            "Epoch 65/100\n",
            "12/12 [==============================] - 1s 60ms/step - loss: 0.7465 - accuracy: 0.6543 - val_loss: 0.9997 - val_accuracy: 0.5589\n",
            "Epoch 66/100\n",
            "12/12 [==============================] - 1s 45ms/step - loss: 0.7410 - accuracy: 0.6476 - val_loss: 1.0117 - val_accuracy: 0.5657\n",
            "Epoch 67/100\n",
            "12/12 [==============================] - 1s 47ms/step - loss: 0.7409 - accuracy: 0.6568 - val_loss: 0.9973 - val_accuracy: 0.5690\n",
            "Epoch 68/100\n",
            "12/12 [==============================] - 1s 61ms/step - loss: 0.7453 - accuracy: 0.6425 - val_loss: 1.0012 - val_accuracy: 0.5623\n",
            "Epoch 69/100\n",
            "12/12 [==============================] - 1s 46ms/step - loss: 0.7422 - accuracy: 0.6602 - val_loss: 0.9959 - val_accuracy: 0.5556\n",
            "Epoch 70/100\n",
            "12/12 [==============================] - 1s 46ms/step - loss: 0.7385 - accuracy: 0.6585 - val_loss: 0.9886 - val_accuracy: 0.5690\n",
            "Epoch 71/100\n",
            "12/12 [==============================] - 1s 45ms/step - loss: 0.7386 - accuracy: 0.6501 - val_loss: 0.9984 - val_accuracy: 0.5623\n",
            "Epoch 72/100\n",
            "12/12 [==============================] - 1s 46ms/step - loss: 0.7415 - accuracy: 0.6653 - val_loss: 0.9722 - val_accuracy: 0.5758\n",
            "Epoch 73/100\n",
            "12/12 [==============================] - 1s 60ms/step - loss: 0.7453 - accuracy: 0.6577 - val_loss: 0.9815 - val_accuracy: 0.5791\n",
            "Epoch 74/100\n",
            "12/12 [==============================] - 1s 50ms/step - loss: 0.7498 - accuracy: 0.6568 - val_loss: 0.9625 - val_accuracy: 0.5758\n",
            "Epoch 75/100\n",
            "12/12 [==============================] - 1s 62ms/step - loss: 0.7357 - accuracy: 0.6560 - val_loss: 0.9651 - val_accuracy: 0.5758\n",
            "Epoch 76/100\n",
            "12/12 [==============================] - 1s 96ms/step - loss: 0.7379 - accuracy: 0.6577 - val_loss: 0.9891 - val_accuracy: 0.5758\n",
            "Epoch 77/100\n",
            "12/12 [==============================] - 1s 72ms/step - loss: 0.7396 - accuracy: 0.6476 - val_loss: 0.9798 - val_accuracy: 0.5690\n",
            "Epoch 78/100\n",
            "12/12 [==============================] - 2s 185ms/step - loss: 0.7417 - accuracy: 0.6501 - val_loss: 0.9882 - val_accuracy: 0.5724\n",
            "Epoch 79/100\n",
            "12/12 [==============================] - 1s 65ms/step - loss: 0.7429 - accuracy: 0.6509 - val_loss: 0.9873 - val_accuracy: 0.5690\n",
            "Epoch 80/100\n",
            "12/12 [==============================] - 1s 46ms/step - loss: 0.7357 - accuracy: 0.6518 - val_loss: 0.9919 - val_accuracy: 0.5690\n",
            "Epoch 81/100\n",
            "12/12 [==============================] - 1s 44ms/step - loss: 0.7377 - accuracy: 0.6661 - val_loss: 0.9915 - val_accuracy: 0.5758\n",
            "Epoch 82/100\n",
            "12/12 [==============================] - 1s 46ms/step - loss: 0.7359 - accuracy: 0.6610 - val_loss: 0.9998 - val_accuracy: 0.5724\n",
            "Epoch 83/100\n",
            "12/12 [==============================] - 1s 44ms/step - loss: 0.7447 - accuracy: 0.6585 - val_loss: 0.9927 - val_accuracy: 0.5724\n",
            "Epoch 84/100\n",
            "12/12 [==============================] - 1s 46ms/step - loss: 0.7406 - accuracy: 0.6678 - val_loss: 0.9827 - val_accuracy: 0.5690\n",
            "Epoch 85/100\n",
            "12/12 [==============================] - 1s 65ms/step - loss: 0.7324 - accuracy: 0.6484 - val_loss: 0.9892 - val_accuracy: 0.5690\n",
            "Epoch 86/100\n",
            "12/12 [==============================] - 1s 58ms/step - loss: 0.7343 - accuracy: 0.6653 - val_loss: 0.9977 - val_accuracy: 0.5791\n",
            "Epoch 87/100\n",
            "12/12 [==============================] - 1s 61ms/step - loss: 0.7423 - accuracy: 0.6551 - val_loss: 1.0014 - val_accuracy: 0.5623\n",
            "Epoch 88/100\n",
            "12/12 [==============================] - 1s 60ms/step - loss: 0.7380 - accuracy: 0.6425 - val_loss: 0.9852 - val_accuracy: 0.5791\n",
            "Epoch 89/100\n",
            "12/12 [==============================] - 1s 58ms/step - loss: 0.7377 - accuracy: 0.6568 - val_loss: 0.9936 - val_accuracy: 0.5690\n",
            "Epoch 90/100\n",
            "12/12 [==============================] - 1s 75ms/step - loss: 0.7378 - accuracy: 0.6535 - val_loss: 0.9856 - val_accuracy: 0.5690\n",
            "Epoch 91/100\n",
            "12/12 [==============================] - 1s 45ms/step - loss: 0.7341 - accuracy: 0.6594 - val_loss: 1.0112 - val_accuracy: 0.5724\n",
            "Epoch 92/100\n",
            "12/12 [==============================] - 1s 85ms/step - loss: 0.7334 - accuracy: 0.6577 - val_loss: 0.9968 - val_accuracy: 0.5623\n",
            "Epoch 93/100\n",
            "12/12 [==============================] - 1s 46ms/step - loss: 0.7334 - accuracy: 0.6560 - val_loss: 1.0117 - val_accuracy: 0.5724\n",
            "Epoch 94/100\n",
            "12/12 [==============================] - 2s 140ms/step - loss: 0.7285 - accuracy: 0.6669 - val_loss: 0.9908 - val_accuracy: 0.5690\n",
            "Epoch 95/100\n",
            "12/12 [==============================] - 2s 128ms/step - loss: 0.7288 - accuracy: 0.6602 - val_loss: 1.0058 - val_accuracy: 0.5690\n",
            "Epoch 96/100\n",
            "12/12 [==============================] - 1s 65ms/step - loss: 0.7357 - accuracy: 0.6594 - val_loss: 1.0016 - val_accuracy: 0.5758\n",
            "Epoch 97/100\n",
            "12/12 [==============================] - 1s 75ms/step - loss: 0.7364 - accuracy: 0.6661 - val_loss: 0.9831 - val_accuracy: 0.5825\n",
            "Epoch 98/100\n",
            "12/12 [==============================] - 1s 59ms/step - loss: 0.7300 - accuracy: 0.6560 - val_loss: 0.9972 - val_accuracy: 0.5825\n",
            "Epoch 99/100\n",
            "12/12 [==============================] - 1s 44ms/step - loss: 0.7303 - accuracy: 0.6568 - val_loss: 0.9834 - val_accuracy: 0.5825\n",
            "Epoch 100/100\n",
            "12/12 [==============================] - 1s 48ms/step - loss: 0.7376 - accuracy: 0.6526 - val_loss: 1.0040 - val_accuracy: 0.5758\n"
          ]
        }
      ]
    },
    {
      "cell_type": "code",
      "metadata": {
        "id": "9zKnpOamDAa3"
      },
      "source": [
        "import matplotlib.pyplot as plt"
      ],
      "execution_count": null,
      "outputs": []
    },
    {
      "cell_type": "code",
      "metadata": {
        "id": "5Li5EQ5tDFES",
        "colab": {
          "base_uri": "https://localhost:8080/",
          "height": 884
        },
        "outputId": "102a74eb-03cf-40ff-929e-a6f5cf25b599"
      },
      "source": [
        "def plot_graphs(history, string):\n",
        "  plt.plot(history.history[string])\n",
        "  plt.plot(history.history['val_'+string])\n",
        "  plt.xlabel(\"Epochs\")\n",
        "  plt.ylabel(string)\n",
        "  plt.legend([string, 'val_'+string])\n",
        "  plt.show()\n",
        "  \n",
        "plot_graphs(history, \"accuracy\")\n",
        "plot_graphs(history, \"loss\")"
      ],
      "execution_count": null,
      "outputs": [
        {
          "output_type": "display_data",
          "data": {
            "text/plain": [
              "<Figure size 640x480 with 1 Axes>"
            ],
            "image/png": "[encoded data removed]"
          },
          "metadata": {}
        },
        {
          "output_type": "display_data",
          "data": {
            "text/plain": [
              "<Figure size 640x480 with 1 Axes>"
            ],
            "image/png": "[encoded data removed]"
          },
          "metadata": {}
        }
      ]
    },
    {
      "cell_type": "code",
      "metadata": {
        "id": "y2M8Q9zZDJov",
        "colab": {
          "base_uri": "https://localhost:8080/"
        },
        "outputId": "de42753e-efb7-4f83-ab46-9ec2095ec80f"
      },
      "source": [
        "txt = [\"kennedy questions trust of blair lib dem leader charles kennedy has said voters now have a  fundamental lack of trust  of tony blair as prime minister.  he said backing his party\"]\n",
        "seq = tokenizer.texts_to_sequences(txt)\n",
        "padded = pad_sequences(seq, maxlen=MAX_LEN)\n",
        "pred = model.predict(padded)\n",
        "labels = ['sport', 'bussiness', 'politics', 'tech', 'entertainment']\n",
        "print(pred, labels[np.argmax(pred)-1])\n"
      ],
      "execution_count": null,
      "outputs": [
        {
          "output_type": "stream",
          "name": "stdout",
          "text": [
            "1/1 [==============================] - 0s 35ms/step\n",
            "[[1.72306500e-07 2.20142965e-06 1.19683489e-06 8.20897458e-06\n",
            "  2.83286092e-04 9.99701321e-01 3.83800455e-07 3.87186361e-07\n",
            "  8.52032684e-08 1.58470868e-07 3.47896105e-07 2.93318550e-07\n",
            "  4.87793272e-07 5.34884634e-07 1.81167664e-07 3.64221563e-07\n",
            "  1.02153081e-07 1.14588374e-07 1.52410706e-07 4.74805901e-08]] entertainment\n"
          ]
        }
      ]
    },
    {
      "cell_type": "code",
      "source": [],
      "metadata": {
        "id": "ERdS_hN70iXd"
      },
      "execution_count": null,
      "outputs": []
    }
  ]
}